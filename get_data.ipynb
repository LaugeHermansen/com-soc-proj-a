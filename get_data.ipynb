{
 "cells": [
  {
   "cell_type": "code",
   "execution_count": 89,
   "metadata": {},
   "outputs": [],
   "source": [
    "from psaw import PushshiftAPI\n",
    "import pandas as pd\n",
    "import numpy as np\n",
    "import matplotlib.pylab as plt\n",
    "from tqdm import tqdm\n",
    "import datetime\n",
    "import os\n",
    "from itertools import islice\n",
    "from collections import defaultdict\n",
    "import networkx as nx"
   ]
  },
  {
   "cell_type": "markdown",
   "metadata": {},
   "source": [
    "# Get data\n",
    "\n",
    "Every submission on r/news, r/television or r/worldnews beteewn the 2022Oscars and the 18th of april with any of the following:\n",
    "slap, Will Smith, Chris Rock, Oscars.\n",
    "Has been downloaded.\n",
    "\n",
    "Every comment has been downloaded from the above submissions.\n",
    "\n",
    "News about people slapping with no contaxt to the Oscars may have been downlaoded."
   ]
  },
  {
   "cell_type": "code",
   "execution_count": 5,
   "metadata": {},
   "outputs": [],
   "source": [
    "subreddits = ['news', 'television', 'worldnews']#, 'USnews','qualitynews', 'offbeat', 'OutOfTheLoop', 'Oscars', 'boxoffice', 'willsmith', 'entertainment' ]\n",
    "    \n",
    "query = 'slap|Will Smith|Chris Rock|chris rock|will smith|Oscars|oscars'.replace('|', ' | ')\n",
    "\n",
    "fields = ['author', 'author_fullname', 'created_utc', 'id', 'num_comments',\n",
    "          'score', 'subreddit', 'subreddit_id', 'title', 'upvote_ratio']\n",
    "\n",
    "start_time = int(datetime.datetime(2022,3,28).timestamp()) # Oscars started midnight UTC\n",
    "end_time = int(datetime.datetime(2022,4,18).timestamp())\n"
   ]
  },
  {
   "cell_type": "code",
   "execution_count": 6,
   "metadata": {},
   "outputs": [
    {
     "name": "stdout",
     "output_type": "stream",
     "text": [
      "1648418400\n",
      "1648418400\n"
     ]
    }
   ],
   "source": [
    "print(start_time)\n",
    "if not os.path.exists('./data/submissions.csv'):\n",
    "    data_submissions = pd.DataFrame(columns=fields + ['created'])\n",
    "    data_submissions.to_csv('./data/submissions.csv', index=False)\n",
    "else:\n",
    "    data_submissions = pd.read_csv('./data/submissions.csv')\n",
    "    if len(data_submissions['created_utc']):\n",
    "        start_time = max(data_submissions['created_utc']) + 1 # override start_time here\n",
    "print(start_time)\n"
   ]
  },
  {
   "cell_type": "code",
   "execution_count": 7,
   "metadata": {},
   "outputs": [],
   "source": [
    "api = PushshiftAPI()\n",
    "\n",
    "submission_generator = api.search_submissions(subreddit=','.join(subreddits),\n",
    "                                              after=start_time,\n",
    "                                              before=end_time,\n",
    "                                              q=query,\n",
    "                                              fields=fields)\n",
    "\n",
    "# temp_df = pd.DataFrame([obj.d_ for obj in submission_generator])"
   ]
  },
  {
   "cell_type": "code",
   "execution_count": 8,
   "metadata": {},
   "outputs": [],
   "source": [
    "save_n_subs_at_the_time = 100\n",
    "\n",
    "while True:\n",
    "    generator_sliced = islice(submission_generator, save_n_subs_at_the_time)\n",
    "    \n",
    "    temp_df = pd.DataFrame([obj.d_ for obj in generator_sliced])\n",
    "    temp_df.to_csv('./data/submissions.csv', mode='a', index=False, header=False)\n",
    "    \n",
    "    if len(temp_df) != save_n_subs_at_the_time:\n",
    "        break"
   ]
  },
  {
   "cell_type": "code",
   "execution_count": 9,
   "metadata": {},
   "outputs": [
    {
     "name": "stdout",
     "output_type": "stream",
     "text": [
      "683\n"
     ]
    }
   ],
   "source": [
    "data_submissions = pd.read_csv('./data/submissions.csv')\n",
    "print(len(data_submissions))\n",
    "\n"
   ]
  },
  {
   "cell_type": "code",
   "execution_count": null,
   "metadata": {},
   "outputs": [],
   "source": [
    "comment_fields = ['author', 'body', 'controversiality', 'created_utc',\n",
    "                  'id', 'link_id', 'parent_id', 'score', 'score_hidden', 'subreddit', 'subreddit_id']\n",
    "last_id_index = 0\n",
    "\n",
    "if not os.path.exists('./data/comments.csv'):\n",
    "    df_comments = pd.DataFrame(columns=comment_fields + ['created', 'post_link_id'])\n",
    "    df_comments.to_csv('./data/comments.csv', index=False)\n",
    "else:\n",
    "    old_df = pd.read_csv('./data/comments.csv')\n",
    "    last_id = old_df['post_link_id'][len(old_df) - 1]\n",
    "    last_id_index = np.where(data_submissions['id'] == last_id)[0][0] + 1\n",
    "    \n",
    "print(f'{len(data_submissions)} submissions in total')\n",
    "for row in tqdm(data_submissions[['subreddit', 'id']][last_id_index:].iterrows()):\n",
    "    subreddit, id = row[1]\n",
    "    \n",
    "    comments_generator = api.search_comments(subreddit=subreddit,\n",
    "                                             link_id=id,\n",
    "                                             fields=comment_fields)\n",
    "    \n",
    "    temp_df = pd.DataFrame([obj.d_ for obj in comments_generator])\n",
    "    temp_df['post_link_id'] = [id] * len(temp_df)\n",
    "    \n",
    "    temp_df.to_csv('./data/comments.csv', mode='a', index=False, header=False)"
   ]
  },
  {
   "cell_type": "code",
   "execution_count": 26,
   "metadata": {},
   "outputs": [
    {
     "data": {
      "text/plain": [
       "74307"
      ]
     },
     "execution_count": 26,
     "metadata": {},
     "output_type": "execute_result"
    }
   ],
   "source": [
    "data_comments = pd.read_csv('./data/comments.csv')\n",
    "len(data_comments)"
   ]
  },
  {
   "cell_type": "markdown",
   "metadata": {},
   "source": [
    "# Data analyzis"
   ]
  },
  {
   "cell_type": "code",
   "execution_count": 74,
   "metadata": {},
   "outputs": [
    {
     "data": {
      "text/plain": [
       "Text(0.5, 1.0, 'Number of comments pr day')"
      ]
     },
     "execution_count": 74,
     "metadata": {},
     "output_type": "execute_result"
    },
    {
     "data": {
      "image/png": "[encoded data removed]",
      "text/plain": [
       "<Figure size 432x288 with 1 Axes>"
      ]
     },
     "metadata": {
      "needs_background": "light"
     },
     "output_type": "display_data"
    }
   ],
   "source": [
    "labelsize = 15\n",
    "title_size = labelsize*1.5\n",
    "\n",
    "data_comments['Datetime'] = pd.to_datetime(data_comments['created_utc'] + np.random.rand(len(data_comments))*0.01, unit='s')\n",
    "temp = data_comments.set_index('Datetime')\n",
    "temp['count'] = np.ones(len(temp))\n",
    "freq = temp.resample('D').sum()['count']\n",
    "plt.semilogy(freq,'-o')\n",
    "plt.xticks(rotation=45, rotation_mode = 'default')\n",
    "plt.xlabel('Date', fontsize = labelsize)\n",
    "plt.ylabel('Number of comments', fontsize = labelsize)\n",
    "plt.title('Number of comments pr day', fontsize = title_size)\n"
   ]
  },
  {
   "cell_type": "code",
   "execution_count": 76,
   "metadata": {},
   "outputs": [
    {
     "data": {
      "text/plain": [
       "Index(['author', 'body', 'controversiality', 'created_utc', 'id', 'link_id',\n",
       "       'parent_id', 'score', 'score_hidden', 'subreddit', 'subreddit_id',\n",
       "       'created', 'post_link_id', 'Datetime'],\n",
       "      dtype='object')"
      ]
     },
     "execution_count": 76,
     "metadata": {},
     "output_type": "execute_result"
    }
   ],
   "source": [
    "data_comments.columns"
   ]
  },
  {
   "cell_type": "code",
   "execution_count": 100,
   "metadata": {},
   "outputs": [
    {
     "data": {
      "text/html": [
       "<div>\n",
       "<style scoped>\n",
       "    .dataframe tbody tr th:only-of-type {\n",
       "        vertical-align: middle;\n",
       "    }\n",
       "\n",
       "    .dataframe tbody tr th {\n",
       "        vertical-align: top;\n",
       "    }\n",
       "\n",
       "    .dataframe thead th {\n",
       "        text-align: right;\n",
       "    }\n",
       "</style>\n",
       "<table border=\"1\" class=\"dataframe\">\n",
       "  <thead>\n",
       "    <tr style=\"text-align: right;\">\n",
       "      <th></th>\n",
       "      <th>author</th>\n",
       "      <th>body</th>\n",
       "      <th>controversiality</th>\n",
       "      <th>created_utc</th>\n",
       "      <th>id</th>\n",
       "      <th>link_id</th>\n",
       "      <th>parent_id</th>\n",
       "      <th>score</th>\n",
       "      <th>score_hidden</th>\n",
       "      <th>subreddit</th>\n",
       "      <th>subreddit_id</th>\n",
       "      <th>created</th>\n",
       "      <th>post_link_id</th>\n",
       "      <th>Datetime</th>\n",
       "    </tr>\n",
       "  </thead>\n",
       "  <tbody>\n",
       "    <tr>\n",
       "      <th>0</th>\n",
       "      <td>[deleted]</td>\n",
       "      <td>[removed]</td>\n",
       "      <td>0</td>\n",
       "      <td>1649769321</td>\n",
       "      <td>i4fa17l</td>\n",
       "      <td>t3_u1ybvn</td>\n",
       "      <td>t3_u1ybvn</td>\n",
       "      <td>1</td>\n",
       "      <td>True</td>\n",
       "      <td>news</td>\n",
       "      <td>t5_2qh3l</td>\n",
       "      <td>1.649762e+09</td>\n",
       "      <td>u1ybvn</td>\n",
       "      <td>2022-04-12 13:15:21.005492992</td>\n",
       "    </tr>\n",
       "    <tr>\n",
       "      <th>1</th>\n",
       "      <td>Avante-Gardenerd</td>\n",
       "      <td>Who wrote this headline? What the actual fuck?</td>\n",
       "      <td>0</td>\n",
       "      <td>1649769253</td>\n",
       "      <td>i4f9von</td>\n",
       "      <td>t3_u1ybvn</td>\n",
       "      <td>t3_u1ybvn</td>\n",
       "      <td>1</td>\n",
       "      <td>True</td>\n",
       "      <td>news</td>\n",
       "      <td>t5_2qh3l</td>\n",
       "      <td>1.649762e+09</td>\n",
       "      <td>u1ybvn</td>\n",
       "      <td>2022-04-12 13:14:13.002993152</td>\n",
       "    </tr>\n",
       "    <tr>\n",
       "      <th>2</th>\n",
       "      <td>IamChooch</td>\n",
       "      <td>CNN reported it was Trump's fault. Will must o...</td>\n",
       "      <td>0</td>\n",
       "      <td>1649769204</td>\n",
       "      <td>i4f9rua</td>\n",
       "      <td>t3_u1ybvn</td>\n",
       "      <td>t1_i4f7mq1</td>\n",
       "      <td>1</td>\n",
       "      <td>True</td>\n",
       "      <td>news</td>\n",
       "      <td>t5_2qh3l</td>\n",
       "      <td>1.649762e+09</td>\n",
       "      <td>u1ybvn</td>\n",
       "      <td>2022-04-12 13:13:24.002057472</td>\n",
       "    </tr>\n",
       "    <tr>\n",
       "      <th>3</th>\n",
       "      <td>[deleted]</td>\n",
       "      <td>[removed]</td>\n",
       "      <td>0</td>\n",
       "      <td>1649768969</td>\n",
       "      <td>i4f996c</td>\n",
       "      <td>t3_u1ybvn</td>\n",
       "      <td>t3_u1ybvn</td>\n",
       "      <td>1</td>\n",
       "      <td>True</td>\n",
       "      <td>news</td>\n",
       "      <td>t5_2qh3l</td>\n",
       "      <td>1.649762e+09</td>\n",
       "      <td>u1ybvn</td>\n",
       "      <td>2022-04-12 13:09:29.003690752</td>\n",
       "    </tr>\n",
       "    <tr>\n",
       "      <th>4</th>\n",
       "      <td>[deleted]</td>\n",
       "      <td>[removed]</td>\n",
       "      <td>0</td>\n",
       "      <td>1649768846</td>\n",
       "      <td>i4f8zno</td>\n",
       "      <td>t3_u1ybvn</td>\n",
       "      <td>t1_i4f7mq1</td>\n",
       "      <td>1</td>\n",
       "      <td>True</td>\n",
       "      <td>news</td>\n",
       "      <td>t5_2qh3l</td>\n",
       "      <td>1.649762e+09</td>\n",
       "      <td>u1ybvn</td>\n",
       "      <td>2022-04-12 13:07:26.000074752</td>\n",
       "    </tr>\n",
       "    <tr>\n",
       "      <th>...</th>\n",
       "      <td>...</td>\n",
       "      <td>...</td>\n",
       "      <td>...</td>\n",
       "      <td>...</td>\n",
       "      <td>...</td>\n",
       "      <td>...</td>\n",
       "      <td>...</td>\n",
       "      <td>...</td>\n",
       "      <td>...</td>\n",
       "      <td>...</td>\n",
       "      <td>...</td>\n",
       "      <td>...</td>\n",
       "      <td>...</td>\n",
       "      <td>...</td>\n",
       "    </tr>\n",
       "    <tr>\n",
       "      <th>74302</th>\n",
       "      <td>gnrc</td>\n",
       "      <td>Will Smith has lost his g dang mind.</td>\n",
       "      <td>0</td>\n",
       "      <td>1648435004</td>\n",
       "      <td>i2e2zpc</td>\n",
       "      <td>t3_tpz9w3</td>\n",
       "      <td>t3_tpz9w3</td>\n",
       "      <td>1</td>\n",
       "      <td>False</td>\n",
       "      <td>television</td>\n",
       "      <td>t5_2qh6e</td>\n",
       "      <td>1.648428e+09</td>\n",
       "      <td>tpz9w3</td>\n",
       "      <td>2022-03-28 02:36:44.003276544</td>\n",
       "    </tr>\n",
       "    <tr>\n",
       "      <th>74303</th>\n",
       "      <td>justice4juicy2020</td>\n",
       "      <td>Just came to post this.  Theres a more clear v...</td>\n",
       "      <td>0</td>\n",
       "      <td>1648435001</td>\n",
       "      <td>i2e2zi6</td>\n",
       "      <td>t3_tpz9w3</td>\n",
       "      <td>t3_tpz9w3</td>\n",
       "      <td>1</td>\n",
       "      <td>False</td>\n",
       "      <td>television</td>\n",
       "      <td>t5_2qh6e</td>\n",
       "      <td>1.648428e+09</td>\n",
       "      <td>tpz9w3</td>\n",
       "      <td>2022-03-28 02:36:41.008706560</td>\n",
       "    </tr>\n",
       "    <tr>\n",
       "      <th>74304</th>\n",
       "      <td>JesusChristSuperDerp</td>\n",
       "      <td>i busted yo wife</td>\n",
       "      <td>0</td>\n",
       "      <td>1648434994</td>\n",
       "      <td>i2e2z0f</td>\n",
       "      <td>t3_tpz9w3</td>\n",
       "      <td>t3_tpz9w3</td>\n",
       "      <td>1</td>\n",
       "      <td>False</td>\n",
       "      <td>television</td>\n",
       "      <td>t5_2qh6e</td>\n",
       "      <td>1.648428e+09</td>\n",
       "      <td>tpz9w3</td>\n",
       "      <td>2022-03-28 02:36:34.009012480</td>\n",
       "    </tr>\n",
       "    <tr>\n",
       "      <th>74305</th>\n",
       "      <td>Goose_Dickling</td>\n",
       "      <td>This was fucking crazy</td>\n",
       "      <td>0</td>\n",
       "      <td>1648434959</td>\n",
       "      <td>i2e2wjn</td>\n",
       "      <td>t3_tpz9w3</td>\n",
       "      <td>t3_tpz9w3</td>\n",
       "      <td>1</td>\n",
       "      <td>False</td>\n",
       "      <td>television</td>\n",
       "      <td>t5_2qh6e</td>\n",
       "      <td>1.648428e+09</td>\n",
       "      <td>tpz9w3</td>\n",
       "      <td>2022-03-28 02:35:59.006312704</td>\n",
       "    </tr>\n",
       "    <tr>\n",
       "      <th>74306</th>\n",
       "      <td>Midnight_Oil_</td>\n",
       "      <td>Given that this occurred on TV and the movie s...</td>\n",
       "      <td>0</td>\n",
       "      <td>1648434941</td>\n",
       "      <td>i2e2vbb</td>\n",
       "      <td>t3_tpz9w3</td>\n",
       "      <td>t3_tpz9w3</td>\n",
       "      <td>1</td>\n",
       "      <td>False</td>\n",
       "      <td>television</td>\n",
       "      <td>t5_2qh6e</td>\n",
       "      <td>1.648428e+09</td>\n",
       "      <td>tpz9w3</td>\n",
       "      <td>2022-03-28 02:35:41.001387008</td>\n",
       "    </tr>\n",
       "  </tbody>\n",
       "</table>\n",
       "<p>74307 rows × 14 columns</p>\n",
       "</div>"
      ],
      "text/plain": [
       "                     author  \\\n",
       "0                 [deleted]   \n",
       "1          Avante-Gardenerd   \n",
       "2                 IamChooch   \n",
       "3                 [deleted]   \n",
       "4                 [deleted]   \n",
       "...                     ...   \n",
       "74302                  gnrc   \n",
       "74303     justice4juicy2020   \n",
       "74304  JesusChristSuperDerp   \n",
       "74305        Goose_Dickling   \n",
       "74306         Midnight_Oil_   \n",
       "\n",
       "                                                    body  controversiality  \\\n",
       "0                                              [removed]                 0   \n",
       "1         Who wrote this headline? What the actual fuck?                 0   \n",
       "2      CNN reported it was Trump's fault. Will must o...                 0   \n",
       "3                                              [removed]                 0   \n",
       "4                                              [removed]                 0   \n",
       "...                                                  ...               ...   \n",
       "74302               Will Smith has lost his g dang mind.                 0   \n",
       "74303  Just came to post this.  Theres a more clear v...                 0   \n",
       "74304                                   i busted yo wife                 0   \n",
       "74305                             This was fucking crazy                 0   \n",
       "74306  Given that this occurred on TV and the movie s...                 0   \n",
       "\n",
       "       created_utc       id    link_id   parent_id  score  score_hidden  \\\n",
       "0       1649769321  i4fa17l  t3_u1ybvn   t3_u1ybvn      1          True   \n",
       "1       1649769253  i4f9von  t3_u1ybvn   t3_u1ybvn      1          True   \n",
       "2       1649769204  i4f9rua  t3_u1ybvn  t1_i4f7mq1      1          True   \n",
       "3       1649768969  i4f996c  t3_u1ybvn   t3_u1ybvn      1          True   \n",
       "4       1649768846  i4f8zno  t3_u1ybvn  t1_i4f7mq1      1          True   \n",
       "...            ...      ...        ...         ...    ...           ...   \n",
       "74302   1648435004  i2e2zpc  t3_tpz9w3   t3_tpz9w3      1         False   \n",
       "74303   1648435001  i2e2zi6  t3_tpz9w3   t3_tpz9w3      1         False   \n",
       "74304   1648434994  i2e2z0f  t3_tpz9w3   t3_tpz9w3      1         False   \n",
       "74305   1648434959  i2e2wjn  t3_tpz9w3   t3_tpz9w3      1         False   \n",
       "74306   1648434941  i2e2vbb  t3_tpz9w3   t3_tpz9w3      1         False   \n",
       "\n",
       "        subreddit subreddit_id       created post_link_id  \\\n",
       "0            news     t5_2qh3l  1.649762e+09       u1ybvn   \n",
       "1            news     t5_2qh3l  1.649762e+09       u1ybvn   \n",
       "2            news     t5_2qh3l  1.649762e+09       u1ybvn   \n",
       "3            news     t5_2qh3l  1.649762e+09       u1ybvn   \n",
       "4            news     t5_2qh3l  1.649762e+09       u1ybvn   \n",
       "...           ...          ...           ...          ...   \n",
       "74302  television     t5_2qh6e  1.648428e+09       tpz9w3   \n",
       "74303  television     t5_2qh6e  1.648428e+09       tpz9w3   \n",
       "74304  television     t5_2qh6e  1.648428e+09       tpz9w3   \n",
       "74305  television     t5_2qh6e  1.648428e+09       tpz9w3   \n",
       "74306  television     t5_2qh6e  1.648428e+09       tpz9w3   \n",
       "\n",
       "                           Datetime  \n",
       "0     2022-04-12 13:15:21.005492992  \n",
       "1     2022-04-12 13:14:13.002993152  \n",
       "2     2022-04-12 13:13:24.002057472  \n",
       "3     2022-04-12 13:09:29.003690752  \n",
       "4     2022-04-12 13:07:26.000074752  \n",
       "...                             ...  \n",
       "74302 2022-03-28 02:36:44.003276544  \n",
       "74303 2022-03-28 02:36:41.008706560  \n",
       "74304 2022-03-28 02:36:34.009012480  \n",
       "74305 2022-03-28 02:35:59.006312704  \n",
       "74306 2022-03-28 02:35:41.001387008  \n",
       "\n",
       "[74307 rows x 14 columns]"
      ]
     },
     "execution_count": 100,
     "metadata": {},
     "output_type": "execute_result"
    }
   ],
   "source": [
    "data_comments"
   ]
  },
  {
   "cell_type": "code",
   "execution_count": 91,
   "metadata": {},
   "outputs": [],
   "source": [
    "data_comments\n",
    "\n",
    "get_author = {row['id']: row['author'] for _,row in tqdm(data_comments.iterrows())}"
   ]
  },
  {
   "cell_type": "code",
   "execution_count": 144,
   "metadata": {},
   "outputs": [
    {
     "name": "stdout",
     "output_type": "stream",
     "text": [
      "number of removed user due to errors 18400\n"
     ]
    }
   ],
   "source": [
    "connections = defaultdict(int)\n",
    "i=0\n",
    "for _,row in data_comments.iterrows():\n",
    "    try: connections[row['author'],get_author[row['parent_id'][3:]]] += 1\n",
    "    except KeyError:\n",
    "        i += 1\n",
    "edges = [(row[1],row[0], connections[row[1],row[0]] + connections[row[0],row[1]]) for row in connections if (row[0],row[1]) in connections and (row[1],row[0]) in connections]\n",
    "\n",
    "print('number of removed comments due to errors', i)\n"
   ]
  },
  {
   "cell_type": "code",
   "execution_count": 114,
   "metadata": {},
   "outputs": [],
   "source": [
    "G = nx.Graph()\n",
    "\n",
    "for u,v,w in edges:\n",
    "    G.add_edge(u,v,weight = w)"
   ]
  },
  {
   "cell_type": "code",
   "execution_count": 115,
   "metadata": {},
   "outputs": [
    {
     "name": "stdout",
     "output_type": "stream",
     "text": [
      "6863\n",
      "5623\n"
     ]
    }
   ],
   "source": [
    "print(G.number_of_nodes())\n",
    "print(G.number_of_edges())"
   ]
  },
  {
   "cell_type": "code",
   "execution_count": 143,
   "metadata": {},
   "outputs": [
    {
     "data": {
      "text/plain": [
       "Text(0.5, 1.0, 'Degree distribution')"
      ]
     },
     "execution_count": 143,
     "metadata": {},
     "output_type": "execute_result"
    },
    {
     "data": {
      "image/png": "[encoded data removed]",
      "text/plain": [
       "<Figure size 432x288 with 1 Axes>"
      ]
     },
     "metadata": {
      "needs_background": "light"
     },
     "output_type": "display_data"
    }
   ],
   "source": [
    "degrees = list(dict(G.degree()).values())\n",
    "degree_dist = defaultdict(int)\n",
    "for d in degrees:\n",
    "    degree_dist[d] += 1\n",
    "\n",
    "sorted(tuple(degree_dist.items()))\n",
    "\n",
    "plt.bar(degree_dist.keys(), np.log10(list(degree_dist.values())))\n",
    "plt.xlabel('Degree', fontsize = labelsize)\n",
    "plt.ylabel('$log_{10}$ of number of nodes', fontsize = labelsize)\n",
    "plt.title('Degree distribution', fontsize = title_size)\n"
   ]
  },
  {
   "cell_type": "code",
   "execution_count": null,
   "metadata": {},
   "outputs": [],
   "source": []
  }
 ],
 "metadata": {
  "interpreter": {
   "hash": "57a2b87650085b13c0004f386235c520585b406664fd3daefbfbda4be1a8bedd"
  },
  "kernelspec": {
   "display_name": "Python 3 (ipykernel)",
   "language": "python",
   "name": "python3"
  },
  "language_info": {
   "codemirror_mode": {
    "name": "ipython",
    "version": 3
   },
   "file_extension": ".py",
   "mimetype": "text/x-python",
   "name": "python",
   "nbconvert_exporter": "python",
   "pygments_lexer": "ipython3",
   "version": "3.10.4"
  }
 },
 "nbformat": 4,
 "nbformat_minor": 2
}
