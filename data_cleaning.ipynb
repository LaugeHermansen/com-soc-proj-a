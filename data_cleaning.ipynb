{
 "cells": [
  {
   "cell_type": "code",
   "execution_count": 77,
   "metadata": {},
   "outputs": [],
   "source": [
    "import pandas as pd\n",
    "import numpy as np\n",
    "import matplotlib.pylab as plt\n",
    "from tqdm import tqdm\n",
    "import datetime\n",
    "import os\n"
   ]
  },
  {
   "cell_type": "code",
   "execution_count": 78,
   "metadata": {},
   "outputs": [],
   "source": [
    "# import data\n",
    "data_submissions = pd.read_pickle('data/submissions.pkl')\n",
    "\n",
    "# convert timestamp to readable time\n",
    "to_readable_time = lambda timestamp: datetime.datetime.fromtimestamp(timestamp).strftime(\"%d-%b-%Y (%H:%M:%S)\")\n",
    "data_submissions['readable_time'] = [to_readable_time(timestamp) for timestamp in data_submissions['created_utc']]\n"
   ]
  },
  {
   "cell_type": "code",
   "execution_count": 79,
   "metadata": {},
   "outputs": [
    {
     "data": {
      "image/png": "[encoded data removed]",
      "text/plain": [
       "<Figure size 432x288 with 1 Axes>"
      ]
     },
     "metadata": {
      "needs_background": "light"
     },
     "output_type": "display_data"
    }
   ],
   "source": [
    "# get counts of submissions\n",
    "titles, counts = np.unique(data_submissions['title'].to_numpy(), return_counts=True)\n",
    "repost_titles = titles[ 1 < counts ]\n",
    "\n",
    "# Plot of reposts\n",
    "fig, ax = plt.subplots()\n",
    "\n",
    "plt.suptitle('Counts of submissions with identical names (reposts)')\n",
    "plt.title(f'{len(counts[ 1 < counts ])} post were posted additionally \\\n",
    "{sum(counts[1 < counts]) - len(counts[1 < counts])} times', fontsize=10)\n",
    "ax.hist(counts[1 < counts])\n",
    "ax.set_yscale('log')\n",
    "plt.show()"
   ]
  },
  {
   "cell_type": "code",
   "execution_count": 82,
   "metadata": {},
   "outputs": [],
   "source": [
    "# save partial data for analysis\n",
    "pd.DataFrame(titles).to_csv('data/titles.csv')\n",
    "pd.concat([data_submissions[data_submissions['title'] == title] for title in repost_titles]).to_csv('data/repsots.csv')"
   ]
  }
 ],
 "metadata": {
  "interpreter": {
   "hash": "57a2b87650085b13c0004f386235c520585b406664fd3daefbfbda4be1a8bedd"
  },
  "kernelspec": {
   "display_name": "Python 3.9.7 ('SocialScience')",
   "language": "python",
   "name": "python3"
  },
  "language_info": {
   "codemirror_mode": {
    "name": "ipython",
    "version": 3
   },
   "file_extension": ".py",
   "mimetype": "text/x-python",
   "name": "python",
   "nbconvert_exporter": "python",
   "pygments_lexer": "ipython3",
   "version": "3.9.7"
  },
  "orig_nbformat": 4
 },
 "nbformat": 4,
 "nbformat_minor": 2
}
